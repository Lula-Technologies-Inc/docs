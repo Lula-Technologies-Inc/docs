{
 "cells": [
  {
   "cell_type": "markdown",
   "id": "adf4d2f7",
   "metadata": {},
   "source": [
    "# LulaSafe API"
   ]
  },
  {
   "cell_type": "markdown",
   "id": "41cf74bc",
   "metadata": {},
   "source": [
    "This tutorial will guide you step by step on how to use the LulaSafe GraphQL API."
   ]
  },
  {
   "cell_type": "code",
   "execution_count": null,
   "id": "ec8a012b",
   "metadata": {},
   "outputs": [],
   "source": [
    "%pip install gql[all]\n",
    "%pip install requests"
   ]
  },
  {
   "cell_type": "code",
   "execution_count": null,
   "id": "d8ee1b94",
   "metadata": {
    "dotnet_interactive": {
     "language": "csharp"
    }
   },
   "outputs": [],
   "source": [
    "import json\n",
    "import os\n",
    "from pprint import pp\n",
    "\n",
    "import requests"
   ]
  },
  {
   "attachments": {},
   "cell_type": "markdown",
   "id": "be8c28d2",
   "metadata": {},
   "source": [
    "## Authentication\n",
    "\n",
    "> **Notice**\n",
    ">\n",
    "> Until we add support for the OpenID Connect client credentials flow, we need to perform some custom token retrieving actions."
   ]
  },
  {
   "cell_type": "markdown",
   "id": "290aa01b",
   "metadata": {},
   "source": [
    "### 1. Read your credentials\n",
    "> **Important**\n",
    ">\n",
    "> Create an [`appsecrets.json`](../appsecrets.json) file in the root of this repo, and put your credentials into it, like so:\n",
    ">\n",
    "> ``` JSON\n",
    "> {\n",
    ">     \"ClientId\": \"< Your Lula login >\",\n",
    ">     \"ClientSecret\": \"< Your Lula password >\"\n",
    "> }\n",
    "> "
   ]
  },
  {
   "cell_type": "code",
   "execution_count": null,
   "id": "e32c577c",
   "metadata": {},
   "outputs": [],
   "source": [
    "class LulaSafeOptions():\n",
    "    def __init__(self, client_id, client_secret, base_url):\n",
    "        self.client_id = client_id\n",
    "        self.client_secret = client_secret\n",
    "        self.base_url = base_url\n",
    "\n",
    "    def __str__(self):\n",
    "        return f\"base_url: {self.base_url}{os.linesep}client_id: {self.client_id}\"\n",
    "        \n",
    "    @staticmethod\n",
    "    def read_from_config(appsecrets_path, appsettings_path):\n",
    "        with open(appsecrets_path) as app_secrets:\n",
    "            secrets_object = json.load(app_secrets)\n",
    "        \n",
    "        with open(appsettings_path) as app_settings:\n",
    "            settings_object = json.load(app_settings)\n",
    "        \n",
    "        return LulaSafeOptions(secrets_object[\"ClientId\"], secrets_object[\"ClientSecret\"], settings_object[\"BaseUrl\"])\n",
    "    \n",
    "    @staticmethod\n",
    "    def read_from_default_config():\n",
    "        return LulaSafeOptions.read_from_config(\"../appsecrets.json\", \"../appsettings.json\")\n",
    "\n",
    "lula_safe_config = LulaSafeOptions.read_from_default_config()\n",
    "print(lula_safe_config)"
   ]
  },
  {
   "cell_type": "code",
   "execution_count": null,
   "id": "562f52b3",
   "metadata": {
    "dotnet_interactive": {
     "language": "csharp"
    }
   },
   "outputs": [],
   "source": [
    "# Lula PATHs\n",
    "init_session_path = \"v1/login/initialize\"\n",
    "submit_login_path = \"v1/login/submit\""
   ]
  },
  {
   "attachments": {},
   "cell_type": "markdown",
   "id": "8bda3566",
   "metadata": {},
   "source": [
    "### Session concept\n",
    "\n",
    "If you want to use the API from a client side application (e.g. from web browser or mobile app), you must first establish a short-lived session from your back-end.\n",
    "This will get you a bearer token, which you will then use to get a `sessionId`.  This `sessionId` is what you will use for making calls from your client side code.\n",
    "\n",
    "### 1. Initialize the session flow"
   ]
  },
  {
   "cell_type": "code",
   "execution_count": null,
   "id": "3718a5e6",
   "metadata": {
    "dotnet_interactive": {
     "language": "csharp"
    }
   },
   "outputs": [],
   "source": [
    "response = requests.get(url=f\"{lula_safe_config.base_url}/{init_session_path}\").json()\n",
    "\n",
    "flow_id = response.get(\"id\")\n",
    "if flow_id:\n",
    "    print(f\"FlowId '{flow_id}'\")\n",
    "else:\n",
    "    print(\"Failed to find Flow ID in the response:\")\n",
    "    pp(response)"
   ]
  },
  {
   "attachments": {},
   "cell_type": "markdown",
   "id": "958e21e8",
   "metadata": {},
   "source": [
    "### 2. Get a bearer token"
   ]
  },
  {
   "cell_type": "code",
   "execution_count": null,
   "id": "6b8f0f1c",
   "metadata": {
    "dotnet_interactive": {
     "language": "csharp"
    }
   },
   "outputs": [],
   "source": [
    "request_data = {\n",
    "    \"method\": \"password\",\n",
    "    \"identifier\": lula_safe_config.client_id,\n",
    "    \"password\": lula_safe_config.client_secret\n",
    "}\n",
    "full_url = f\"{lula_safe_config.base_url}/{submit_login_path}?flow={flow_id}\"\n",
    "\n",
    "json_request = json.dumps(request_data).encode('utf-8')\n",
    "\n",
    "response = requests.post(url=full_url, data=json_request, headers= {'Content-Type': 'application/json; charset=utf-8'}).json()\n",
    "\n",
    "bearer_token = response.get(\"session_token\")\n",
    "if bearer_token:\n",
    "    print(f\"Bearer Token '{bearer_token}'\")\n",
    "else:\n",
    "    print(\"Failed to find Bearer Token in the reponse:\")\n",
    "    pp(response)"
   ]
  },
  {
   "attachments": {},
   "cell_type": "markdown",
   "id": "cd0d0de7",
   "metadata": {},
   "source": [
    "### 3. Get a session token using the bearer token\n",
    "\n",
    "Use a bearer token in the `Authorization` header to establish a session."
   ]
  },
  {
   "cell_type": "code",
   "execution_count": null,
   "id": "7d5cce11",
   "metadata": {},
   "outputs": [],
   "source": [
    "lula_session_endpoint = f\"{lula_safe_config.base_url}/risk/v0.1-beta1/sessions\"\n",
    "\n",
    "response = requests.post(url=lula_session_endpoint, headers={'Authorization': f\"Bearer {bearer_token}\"}).json()\n",
    "\n",
    "session_id = response.get(\"sessionId\")\n",
    "if session_id:\n",
    "    print(f\"SessionId '{session_id}'\")\n",
    "else:\n",
    "    print(\"Failed to find Session ID in the reponse:\")\n",
    "    pp(response)"
   ]
  },
  {
   "attachments": {},
   "cell_type": "markdown",
   "id": "423971b2",
   "metadata": {},
   "source": [
    "Once you have a `sessionId` you, can pass it instead of the bearer token. Use it in your front-end or mobile app so you aren't exposing the bearer token there."
   ]
  },
  {
   "cell_type": "markdown",
   "id": "1a131e2f",
   "metadata": {},
   "source": [
    "## GraphQL client usage\n",
    "Let's define a function to read an operation from a `gql` file."
   ]
  },
  {
   "cell_type": "code",
   "execution_count": null,
   "id": "7fdf0f0e",
   "metadata": {},
   "outputs": [],
   "source": [
    "from gql import Client, gql\n",
    "from gql.transport.aiohttp import AIOHTTPTransport\n",
    "\n",
    "lulasafe_graphql_url = f\"{lula_safe_config.base_url}/risk/graphql\"\n",
    "transport = AIOHTTPTransport(lulasafe_graphql_url, headers= {'session-id': session_id})\n",
    "\n",
    "def read_operation(name: str):\n",
    "    with open(f\"../graphql/{name}\", \"r\") as gql_file:\n",
    "        return gql_file.read()"
   ]
  },
  {
   "attachments": {},
   "cell_type": "markdown",
   "id": "9992f449",
   "metadata": {},
   "source": [
    "### Driver Assessment\n",
    "> **Important**\n",
    ">\n",
    ">  Store the assessment Id on your back-end if you wish to retrieve the result again later.\n",
    "\n",
    "Collect driver data and request an assessment for that driver using the [CheckInsuranceAndRequestVehicles.gql](../graphql/CheckInsuranceAndRequestVehicles.gql) mutation."
   ]
  },
  {
   "cell_type": "code",
   "execution_count": null,
   "id": "3dbeabb0",
   "metadata": {
    "dotnet_interactive": {
     "language": "csharp"
    }
   },
   "outputs": [],
   "source": [
    "assessee = {\n",
    "    \"firstName\": \"NOAH\",\n",
    "    \"lastName\": \"RUSSAW\",\n",
    "    \"middleName\": \"\",\n",
    "    \"dateOfBirth\": \"1962-8-1\",\n",
    "    \"phone\": \"\",\n",
    "    \"email\": \"\"\n",
    "}\n",
    "\n",
    "address_request = {\n",
    "    \"line1\": \"8340 BUNCHE DR\",\n",
    "    \"line2\": \"\",\n",
    "    \"zipCode\": \"75243\",\n",
    "    \"country\": \"US\",\n",
    "    \"city\": \"DALLAS\",\n",
    "    \"state\": \"TX\"\n",
    "}\n",
    "\n",
    "async def create_driver_assessment():\n",
    "    async with Client(\n",
    "        transport=transport,\n",
    "        fetch_schema_from_transport=True,\n",
    "        parse_results=True\n",
    "    ) as client:\n",
    "        assess_mutation = gql(read_operation(\"CheckInsuranceAndRequestVehicles.gql\"))\n",
    "        params = {\"assessee\": assessee, \"address\": address_request}     \n",
    "        response = await client.execute(assess_mutation, variable_values=params)\n",
    "        driver_assessment_id = response.get(\"assess\", {}).get(\"id\")\n",
    "\n",
    "        if driver_assessment_id:\n",
    "            return driver_assessment_id\n",
    "        else:\n",
    "            print(\"Can't find Driver Assessment ID in response:\")\n",
    "            pp(response)\n",
    "        \n",
    "\n",
    "driver_assessment_id = await create_driver_assessment()\n",
    "f\"Assessment query ID returned from server: '{driver_assessment_id}'\""
   ]
  },
  {
   "cell_type": "markdown",
   "id": "157b51b2",
   "metadata": {},
   "source": [
    "### Getting assessment results later\n",
    "Get any previous assessment results by assessment Id using the [RetrieveInsuranceAndVehiclesResult.gql](../graphql/RetrieveInsuranceAndVehiclesResult.gql) query."
   ]
  },
  {
   "cell_type": "code",
   "execution_count": null,
   "id": "338c8331",
   "metadata": {},
   "outputs": [],
   "source": [
    "async def get_assessment_results():\n",
    "    async with Client(\n",
    "        transport=transport,\n",
    "        fetch_schema_from_transport=True,\n",
    "        parse_results=False\n",
    "    ) as client:\n",
    "        assessment_query = gql(read_operation(\"RetrieveInsuranceAndVehiclesResult.gql\"))\n",
    "        params = {\"id\": driver_assessment_id}\n",
    "        response = await client.execute(assessment_query, variable_values=params)\n",
    "        print(\"Assessment Results:\")\n",
    "        pp(response)\n",
    "\n",
    "await get_assessment_results()"
   ]
  }
 ],
 "metadata": {
  "kernelspec": {
   "display_name": "Python 3",
   "language": "python",
   "name": "python3"
  },
  "language_info": {
   "codemirror_mode": {
    "name": "ipython",
    "version": 3
   },
   "file_extension": ".py",
   "mimetype": "text/x-python",
   "name": "python",
   "nbconvert_exporter": "python",
   "pygments_lexer": "ipython3",
   "version": "3.11.2"
  },
  "vscode": {
   "interpreter": {
    "hash": "aee8b7b246df8f9039afb4144a1f6fd8d2ca17a180786b69acc140d282b71a49"
   }
  }
 },
 "nbformat": 4,
 "nbformat_minor": 5
}
