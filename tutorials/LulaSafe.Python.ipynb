{
 "cells": [
  {
   "cell_type": "markdown",
   "id": "adf4d2f7",
   "metadata": {},
   "source": [
    "# LulaSafe API"
   ]
  },
  {
   "cell_type": "markdown",
   "id": "41cf74bc",
   "metadata": {},
   "source": [
    "This tutorial will guide you step by step on how to use the API having the client code generated from OpenAPI specification."
   ]
  },
  {
   "cell_type": "code",
   "execution_count": null,
   "id": "d8ee1b94",
   "metadata": {
    "dotnet_interactive": {
     "language": "csharp"
    }
   },
   "outputs": [],
   "source": [
    "import os\n",
    "import json\n",
    "import urllib\n",
    "import json\n",
    "import sys\n",
    "import time\n",
    "from datetime import datetime\n",
    "\n",
    "def run_command(cmd):\n",
    "    print(os.popen(cmd).read())\n",
    "\n",
    "api_client_path = \"python/.api-lulasafe/\""
   ]
  },
  {
   "cell_type": "markdown",
   "id": "3f20c41c",
   "metadata": {},
   "source": [
    "## Client code generation"
   ]
  },
  {
   "cell_type": "markdown",
   "id": "b50cd500",
   "metadata": {},
   "source": [
    "Install NPM package"
   ]
  },
  {
   "cell_type": "code",
   "execution_count": null,
   "id": "f6b97a73",
   "metadata": {
    "dotnet_interactive": {
     "language": "pwsh"
    },
    "pycharm": {
     "is_executing": true
    }
   },
   "outputs": [],
   "source": [
    "run_command('npm install -g @openapitools/openapi-generator-cli')"
   ]
  },
  {
   "cell_type": "markdown",
   "id": "169ae11d",
   "metadata": {},
   "source": [
    "and generate the client:"
   ]
  },
  {
   "cell_type": "code",
   "execution_count": null,
   "id": "b39fc96d",
   "metadata": {
    "dotnet_interactive": {
     "language": "csharp"
    },
    "pycharm": {
     "is_executing": true
    }
   },
   "outputs": [],
   "source": [
    "current_directory = os.getcwd()\n",
    "path_to_yaml_schema = os.path.join(\n",
    "    current_directory, '..', 'openapi', 'lulasafe.yaml')\n",
    "run_command('npx openapi-generator-cli version-manager set 6.1.0')\n",
    "run_command(\n",
    "    f'npx openapi-generator-cli generate -g python -i \"{path_to_yaml_schema}\" -o \"{api_client_path}\"')"
   ]
  },
  {
   "cell_type": "markdown",
   "id": "3865f07e",
   "metadata": {},
   "source": [
    "## Package restore\n",
    "```\n",
    "cd python/.api-lulasafe\n",
    "pip3 install -r requirements.txt\n",
    "pip3 install .\n",
    "```"
   ]
  },
  {
   "cell_type": "code",
   "execution_count": null,
   "id": "698dca3f",
   "metadata": {
    "dotnet_interactive": {
     "language": "csharp"
    },
    "pycharm": {
     "is_executing": true
    }
   },
   "outputs": [],
   "source": [
    "os.chdir(api_client_path)\n",
    "run_command(\"pip3 install -r requirements.txt\")\n",
    "run_command(\"pip3 install .\")\n",
    "os.chdir('../../')"
   ]
  },
  {
   "cell_type": "markdown",
   "id": "59210a64",
   "metadata": {},
   "source": [
    "> **Note**\n",
    ">\n",
    "> In `python/.api-lulasafe` you will see a [README.md](python/.api-lulasafe/README.md) with API documentation. Including all types"
   ]
  },
  {
   "cell_type": "markdown",
   "id": "be8c28d2",
   "metadata": {},
   "source": [
    "## Authentication\n",
    "> **Warning**\n",
    ">\n",
    "> Until we add support for OpenID Connect client credentials flow, we need to perform some custom token retrieving actions"
   ]
  },
  {
   "attachments": {},
   "cell_type": "markdown",
   "id": "290aa01b",
   "metadata": {},
   "source": [
    "### 1. Read your credentials\n",
    "> **Important**\n",
    ">\n",
    "> Create [`appsettings.json`](../appsettings.json) in the repo root and set your credentials into it\n",
    ">\n",
    "> ``` JSON\n",
    "> {\n",
    ">     \"ClientId\": \"< Your Lula login >\",\n",
    ">     \"ClientSecret\": \"< Your Lula password >\"\n",
    "> }\n",
    "> "
   ]
  },
  {
   "cell_type": "code",
   "execution_count": null,
   "id": "e32c577c",
   "metadata": {
    "pycharm": {
     "is_executing": true
    }
   },
   "outputs": [],
   "source": [
    "class LulaSafeOptions():\n",
    "    def __init__(self, client_id, client_secret):\n",
    "        self.client_id = client_id\n",
    "        self.client_secret = client_secret\n",
    "\n",
    "    @staticmethod\n",
    "    def read_from_config(filepath):\n",
    "        with open(filepath) as app_settings:\n",
    "            settings_object = json.load(app_settings)\n",
    "            return LulaSafeOptions(settings_object[\"ClientId\"], settings_object[\"ClientSecret\"])\n",
    "\n",
    "    @staticmethod\n",
    "    def read_from_default_config():\n",
    "        return LulaSafeOptions.read_from_config(\"../appsettings.json\")"
   ]
  },
  {
   "cell_type": "code",
   "execution_count": null,
   "id": "562f52b3",
   "metadata": {
    "dotnet_interactive": {
     "language": "csharp"
    },
    "pycharm": {
     "is_executing": true
    }
   },
   "outputs": [],
   "source": [
    "# Lula URLs\n",
    "lula_url = \"https://api.staging-lula.is/\"\n",
    "init_session_path = \"v1/login/initialize\"\n",
    "submit_login_path = \"v1/login/submit\""
   ]
  },
  {
   "attachments": {},
   "cell_type": "markdown",
   "id": "8bda3566",
   "metadata": {},
   "source": [
    "### 2. Initiate session"
   ]
  },
  {
   "cell_type": "code",
   "execution_count": null,
   "id": "3718a5e6",
   "metadata": {
    "dotnet_interactive": {
     "language": "csharp"
    },
    "pycharm": {
     "is_executing": true
    }
   },
   "outputs": [],
   "source": [
    "request = urllib.request.Request(url=f\"{lula_url}{init_session_path}\")\n",
    "response = urllib.request.urlopen(request).read()\n",
    "json_response = json.loads(response)\n",
    "\n",
    "flow_id = json_response[\"id\"]\n",
    "f\"FlowId '{flow_id}'\""
   ]
  },
  {
   "attachments": {},
   "cell_type": "markdown",
   "id": "958e21e8",
   "metadata": {},
   "source": [
    "### 3. Get session token used as bearer"
   ]
  },
  {
   "cell_type": "code",
   "execution_count": null,
   "id": "6b8f0f1c",
   "metadata": {
    "dotnet_interactive": {
     "language": "csharp"
    },
    "pycharm": {
     "is_executing": true
    }
   },
   "outputs": [],
   "source": [
    "lula_safe_config = LulaSafeOptions.read_from_default_config()\n",
    "\n",
    "request_data = {\n",
    "    \"method\": \"password\",\n",
    "    \"password_identifier\": lula_safe_config.client_id,\n",
    "    \"password\": lula_safe_config.client_secret\n",
    "}\n",
    "full_url = f\"{lula_url}{submit_login_path}?flow={flow_id}\"\n",
    "\n",
    "json_request = json.dumps(request_data).encode('utf-8')\n",
    "request = urllib.request.Request(\n",
    "    data=json_request, method=\"POST\", url=full_url)\n",
    "request.add_header('Content-Type', 'application/json; charset=utf-8')\n",
    "\n",
    "response = urllib.request.urlopen(request).read()\n",
    "json_response = json.loads(response)\n",
    "bearer_token = json_response[\"session_token\"]\n",
    "f\"Bearer Token '{bearer_token}'\""
   ]
  },
  {
   "cell_type": "markdown",
   "id": "1a131e2f",
   "metadata": {},
   "source": [
    "## Client usage\n",
    "We will generate a client from OpenAPI and use it.\n"
   ]
  },
  {
   "cell_type": "code",
   "execution_count": null,
   "id": "67034a8e",
   "metadata": {
    "dotnet_interactive": {
     "language": "csharp"
    },
    "pycharm": {
     "is_executing": true
    }
   },
   "outputs": [],
   "source": [
    "from openapi_client.model.stripe_identity_verification_credentials_response import StripeIdentityVerificationCredentialsResponse\n",
    "from openapi_client.model.issuer_state import IssuerState\n",
    "from openapi_client.model.email import Email\n",
    "from openapi_client.model.get_driver_assessment_results_response import GetDriverAssessmentResultsResponse\n",
    "from openapi_client.model.validation_problem_details import ValidationProblemDetails\n",
    "from openapi_client.model.problem_details import ProblemDetails\n",
    "from openapi_client.model.driver_assessment_request import DriverAssessmentRequest\n",
    "from openapi_client.model.driving_license_id import DrivingLicenseId\n",
    "from openapi_client.model.driving_license import DrivingLicense\n",
    "from openapi_client.model.assessee import Assessee\n",
    "from openapi_client.model.address import Address\n",
    "from openapi_client.api import default_api as lula_safe_api\n",
    "import openapi_client\n",
    "os.sys.path.append(api_client_path)\n",
    "\n",
    "configuration = openapi_client.Configuration(host=f\"{lula_url}risk/v0.1-beta1\")"
   ]
  },
  {
   "cell_type": "markdown",
   "id": "2b54643b",
   "metadata": {},
   "source": [
    "There are two ways to generate an OpenAPI client in python:  \n",
    "1. Classic one, where you take responsibility to close the client connection  \n",
    "2. Modern one, that closes it automatically  "
   ]
  },
  {
   "cell_type": "markdown",
   "id": "826db24d",
   "metadata": {},
   "source": [
    "#### Classic option"
   ]
  },
  {
   "cell_type": "code",
   "execution_count": null,
   "id": "058cea45",
   "metadata": {
    "dotnet_interactive": {
     "language": "csharp"
    },
    "pycharm": {
     "is_executing": true
    }
   },
   "outputs": [],
   "source": [
    "# classic_client = openapi_client.ApiClient(configuration)\n",
    "# ....\n",
    "# classic_client.close()"
   ]
  },
  {
   "cell_type": "markdown",
   "id": "14671aef",
   "metadata": {},
   "source": [
    "#### Modern option"
   ]
  },
  {
   "cell_type": "code",
   "execution_count": null,
   "id": "9e364c07",
   "metadata": {
    "dotnet_interactive": {
     "language": "csharp"
    },
    "pycharm": {
     "is_executing": true
    }
   },
   "outputs": [],
   "source": [
    "# with openapi_client.ApiClient(configuration) as client:\n",
    "# ....\n",
    "#    lula_safe_client = lula_safe_api.DefaultApi(client)\n",
    "\n",
    "# openapi_client instance called `client` will be closed automatically when\n",
    "# code reaches out of the request scope"
   ]
  },
  {
   "cell_type": "markdown",
   "id": "7a55209f",
   "metadata": {},
   "source": [
    "## Session concept\n",
    "As long as API must also be usable from client side application (i.e. from browser) first you establish a short leaved session from a back-end. Then you can pass it to front-end and do not worry about it's disclosure. Or use it from back-end too.\n",
    "So after you got a session Id, use it for later calls."
   ]
  },
  {
   "cell_type": "markdown",
   "id": "cd0d0de7",
   "metadata": {},
   "source": [
    "### Establishing a session\n",
    "Use bearer token as usual in `Authorization` header to establish a session"
   ]
  },
  {
   "cell_type": "code",
   "execution_count": null,
   "id": "0f12bf62",
   "metadata": {
    "dotnet_interactive": {
     "language": "csharp"
    },
    "pycharm": {
     "is_executing": true
    }
   },
   "outputs": [],
   "source": [
    "session_id = None\n",
    "\n",
    "with openapi_client.ApiClient(configuration, header_name=\"Authorization\", header_value=f\"Bearer {bearer_token}\") as client:\n",
    "    # Create a new instance\n",
    "    lula_safe_client = lula_safe_api.DefaultApi(client)\n",
    "\n",
    "    try:\n",
    "        session_response = lula_safe_client.create_session()\n",
    "        session_id = session_response[\"session_id\"]\n",
    "    except openapi_client.ApiException as e:\n",
    "        print(\"Exception occurred while calling LulaApi->create_session:%s\\n\" % e)\n",
    "f\"SessionId '{session_id}'\""
   ]
  },
  {
   "attachments": {},
   "cell_type": "markdown",
   "id": "423971b2",
   "metadata": {},
   "source": [
    "> **Note**\n",
    ">\n",
    "> Having a `sessionId` you no longer need to pass a bearer token. Hence you can pass it to front-end or mobile app"
   ]
  },
  {
   "attachments": {},
   "cell_type": "markdown",
   "id": "9992f449",
   "metadata": {},
   "source": [
    "### Driver Assessment\n",
    "> **Important**\n",
    ">\n",
    ">  Store assessment Id on your back-end to later retrieve the result again\n",
    "\n",
    "Collect driver data and request an assessment for that driver"
   ]
  },
  {
   "cell_type": "code",
   "execution_count": null,
   "id": "3dbeabb0",
   "metadata": {
    "dotnet_interactive": {
     "language": "csharp"
    },
    "pycharm": {
     "is_executing": true
    }
   },
   "outputs": [],
   "source": [
    "assessee_data = Assessee(\n",
    "    first_name=\"Antonio\",\n",
    "    last_name=\"Bernette\",\n",
    "    middle_name=\"\",\n",
    "    date_of_birth=datetime(1982, 11, 17).date(),\n",
    "    phone=\"270-555-7152\",\n",
    "    email=Email(\"antonio@email.com\")\n",
    ")\n",
    "driving_license_id = DrivingLicenseId(\"111119615\")\n",
    "driving_license = DrivingLicense(\n",
    "    id=driving_license_id,\n",
    "    expiry_date=datetime(2024, 10, 20).date(),\n",
    "    issuer_state=IssuerState(\"KY\")\n",
    ")\n",
    "address = Address(\n",
    "    line1=\"7104 Cadillac Boulevard\",\n",
    "    line2=\"\",\n",
    "    city=\"Arlington\",\n",
    "    state=\"TX\",\n",
    "    country=\"US\",\n",
    "    zip_code=\"76016\"\n",
    ")\n",
    "driver_assessment_body = lula_safe_api.DriverAssessmentRequest(\n",
    "    assessee=assessee_data,\n",
    "    driving_license=driving_license,\n",
    "    address=address\n",
    ")\n"
   ]
  },
  {
   "cell_type": "markdown",
   "id": "b3929122",
   "metadata": {
    "notebookRunGroups": {
     "groupValue": ""
    }
   },
   "source": [
    "### Handle non-success status codes\n",
    "\n",
    "Catch generic `ApiException` and check status code"
   ]
  },
  {
   "cell_type": "code",
   "execution_count": null,
   "id": "f81b0e41",
   "metadata": {
    "pycharm": {
     "is_executing": true
    }
   },
   "outputs": [],
   "source": [
    "def handle_lula_error(e: openapi_client.ApiException):\n",
    "    if (e.status == 400):\n",
    "        problem_details: ProblemDetails = e.body\n",
    "        print(problem_details)\n",
    "    elif (e.status == 404):  # SessionNotFound, no body\n",
    "        problem_details: ProblemDetails = e.body\n",
    "        print(problem_details)\n",
    "    elif (e.status == 410):  # SessionExpired\n",
    "        problem_details: ProblemDetails = e.body\n",
    "        print(problem_details)\n",
    "    elif (e.status == 422):  # Incorrect Parameters Supplied\n",
    "        response_body = e.body\n",
    "        response_object = json.loads(response_body)\n",
    "        errors = response_object[\"errors\"]\n",
    "        for key, error_values in errors.items():\n",
    "            print(f\"'{key}':\")\n",
    "            for error in error_values:\n",
    "                print(f\"\\t{error}\")\n",
    "    else:\n",
    "        print(f\"Unknown error:{e.status} code with body:\\n{e.body}\")"
   ]
  },
  {
   "cell_type": "code",
   "execution_count": null,
   "id": "27d6e0d4",
   "metadata": {
    "pycharm": {
     "is_executing": true
    }
   },
   "outputs": [],
   "source": [
    "driver_assessment_id = None\n",
    "\n",
    "with openapi_client.ApiClient(configuration) as client:\n",
    "    # Another way to provide Bearer token\n",
    "    client.set_default_header(\"Authorization\", f\"Bearer {bearer_token}\")\n",
    "    lula_safe_client = lula_safe_api.DefaultApi(client)\n",
    "    try:\n",
    "        driver_assessment: GetDriverAssessmentResultsResponse = lula_safe_client.request_driver_assessment(\n",
    "            session_id=session_id,\n",
    "            driver_assessment_request=driver_assessment_body\n",
    "        )\n",
    "        driver_assessment_id = driver_assessment[\"assessment\"][\"value\"][\"id\"]\n",
    "    except openapi_client.ApiException as e:\n",
    "        handle_lula_error(e)\n",
    "\n",
    "driver_assessment"
   ]
  },
  {
   "attachments": {},
   "cell_type": "markdown",
   "id": "28fa4b6e",
   "metadata": {},
   "source": [
    "### Document and selfie verification\n",
    "\n",
    "To use document and selfie on a front-end you need it's credentials. Here they are"
   ]
  },
  {
   "cell_type": "code",
   "execution_count": null,
   "id": "8d9eb5fe",
   "metadata": {
    "dotnet_interactive": {
     "language": "csharp"
    },
    "pycharm": {
     "is_executing": true
    }
   },
   "outputs": [],
   "source": [
    "stripe_identity_publishable_key = None\n",
    "with openapi_client.ApiClient(configuration) as client:\n",
    "    client.set_default_header(\"Authorization\", f\"Bearer {bearer_token}\")\n",
    "    lula_safe_client = lula_safe_api.DefaultApi(client)\n",
    "\n",
    "    try:\n",
    "        stripe_response: StripeIdentityVerificationCredentialsResponse = lula_safe_client.get_stripe_identity_verification_credentials(\n",
    "            session_id=session_id,\n",
    "            driver_assessment_id=driver_assessment_id\n",
    "        )\n",
    "        stripe_identity_publishable_key = stripe_response[\"stripe_identity_publishable_key\"]\n",
    "    except openapi_client.ApiException as e:\n",
    "        handle_lula_error(e)\n",
    "\n",
    "f\"StripeIdentityPublishableKey '{stripe_identity_publishable_key}'\""
   ]
  },
  {
   "attachments": {},
   "cell_type": "markdown",
   "id": "157b51b2",
   "metadata": {},
   "source": [
    "### Getting assessment results later\n",
    "Get any previous assessment results by assessment Id"
   ]
  },
  {
   "cell_type": "code",
   "execution_count": null,
   "id": "1caa445e",
   "metadata": {
    "dotnet_interactive": {
     "language": "csharp"
    },
    "pycharm": {
     "is_executing": true
    }
   },
   "outputs": [],
   "source": [
    "risk_conclusion = None\n",
    "criminal_status_check = None\n",
    "document_status_check = None\n",
    "identity_status_check = None\n",
    "mvr_status_check = None\n",
    "\n",
    "\n",
    "with openapi_client.ApiClient(configuration) as client:\n",
    "    client.set_default_header(\"Authorization\", f\"Bearer {bearer_token}\")\n",
    "    lula_safe_client = lula_safe_api.DefaultApi(client)\n",
    "\n",
    "    try:\n",
    "        # Because generator propagates type as not nullable, request will fail without `_check_return_type = False` kwarg\n",
    "        assessment_result = lula_safe_client.get_driver_assessment_by_id(\n",
    "            driver_assessment_id=driver_assessment_id,\n",
    "            _check_return_type=False\n",
    "        )\n",
    "        criminal_status_check = assessment_result[\"criminal_check\"][\"status\"]\n",
    "        document_status_check = assessment_result[\"document_check\"][\"status\"]\n",
    "        identity_status_check = assessment_result[\"identity_check\"][\"status\"]\n",
    "        mvr_status_check = assessment_result[\"mvr_check\"][\"status\"]\n",
    "\n",
    "        risk_conclusion = assessment_result[\"lula_safe_conclusion\"][\"risk\"]\n",
    "    except openapi_client.ApiException as e:\n",
    "        handle_lula_error(e)\n",
    "\n",
    "f\"\"\"Criminal check status '{criminal_status_check}';\n",
    "Document check status '{document_status_check}';\n",
    "Identity check status '{identity_status_check}';\n",
    "MVR check status '{mvr_status_check}';\n",
    "LulaSafe Conclusion '{risk_conclusion}'.\n",
    "\"\"\""
   ]
  }
 ],
 "metadata": {
  "kernelspec": {
   "display_name": "Python 3.10.8 64-bit (microsoft store)",
   "language": "python",
   "name": "python3"
  },
  "language_info": {
   "codemirror_mode": {
    "name": "ipython",
    "version": 3
   },
   "file_extension": ".py",
   "mimetype": "text/x-python",
   "name": "python",
   "nbconvert_exporter": "python",
   "pygments_lexer": "ipython3",
   "version": "3.10.9"
  },
  "vscode": {
   "interpreter": {
    "hash": "b0fa6594d8f4cbf19f97940f81e996739fb7646882a419484c72d19e05852a7e"
   }
  }
 },
 "nbformat": 4,
 "nbformat_minor": 5
}
