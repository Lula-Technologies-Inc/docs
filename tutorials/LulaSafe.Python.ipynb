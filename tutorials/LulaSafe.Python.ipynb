{
 "cells": [
  {
   "cell_type": "markdown",
   "id": "adf4d2f7",
   "metadata": {},
   "source": [
    "# LulaSafe API"
   ]
  },
  {
   "attachments": {},
   "cell_type": "markdown",
   "id": "41cf74bc",
   "metadata": {},
   "source": [
    "This tutorial will guide you step by step on how to use the LulaSafe GraphQL API."
   ]
  },
  {
   "cell_type": "code",
   "execution_count": null,
   "id": "d8ee1b94",
   "metadata": {
    "dotnet_interactive": {
     "language": "csharp"
    }
   },
   "outputs": [],
   "source": [
    "import os\n",
    "import json\n",
    "from pprint import pp\n",
    "\n",
    "def run_command(cmd):\n",
    "    print(os.popen(cmd).read())"
   ]
  },
  {
   "cell_type": "code",
   "execution_count": null,
   "id": "2e822108",
   "metadata": {},
   "outputs": [],
   "source": [
    "run_command('pip install gql[all]')\n",
    "run_command('pip install requests')"
   ]
  },
  {
   "cell_type": "markdown",
   "id": "be8c28d2",
   "metadata": {},
   "source": [
    "## Authentication\n",
    "> **Warning**\n",
    ">\n",
    "> Until we add support for OpenID Connect client credentials flow, we need to perform some custom token retrieving actions"
   ]
  },
  {
   "attachments": {},
   "cell_type": "markdown",
   "id": "290aa01b",
   "metadata": {},
   "source": [
    "### 1. Read your credentials\n",
    "> **Important**\n",
    ">\n",
    "> Create [`appsecrets.json`](../appsecrets.json) in the repo root and set your credentials into it\n",
    ">\n",
    "> ``` JSON\n",
    "> {\n",
    ">     \"ClientId\": \"< Your Lula login >\",\n",
    ">     \"ClientSecret\": \"< Your Lula password >\"\n",
    "> }\n",
    "> "
   ]
  },
  {
   "cell_type": "code",
   "execution_count": null,
   "id": "e32c577c",
   "metadata": {},
   "outputs": [],
   "source": [
    "class LulaSafeOptions():\n",
    "    def __init__(self, client_id, client_secret, base_url):\n",
    "        self.client_id = client_id\n",
    "        self.client_secret = client_secret\n",
    "        self.base_url = base_url\n",
    "\n",
    "    def __str__(self):\n",
    "        return f\"base_url: {self.base_url}{os.linesep}client_id{self.client_id}\"\n",
    "        \n",
    "    @staticmethod\n",
    "    def read_from_config(appsecrets_path, appsettings_path):\n",
    "        secrets_object = None\n",
    "        with open(appsecrets_path) as app_secrets:\n",
    "            secrets_object = json.load(app_secrets)\n",
    "        \n",
    "        settings_object = None\n",
    "        with open(appsettings_path) as app_settings:\n",
    "            settings_object = json.load(app_settings)\n",
    "        \n",
    "        return LulaSafeOptions(secrets_object[\"ClientId\"], secrets_object[\"ClientSecret\"], settings_object[\"BaseUrl\"])\n",
    "    \n",
    "    @staticmethod\n",
    "    def read_from_default_config():\n",
    "        return LulaSafeOptions.read_from_config(\"../appsecrets.json\", \"../appsettings.json\")\n",
    "\n",
    "lula_safe_config = LulaSafeOptions.read_from_default_config()\n",
    "print(lula_safe_config)"
   ]
  },
  {
   "cell_type": "code",
   "execution_count": null,
   "id": "562f52b3",
   "metadata": {
    "dotnet_interactive": {
     "language": "csharp"
    }
   },
   "outputs": [],
   "source": [
    "# Lula PATHs\n",
    "init_session_path = \"v1/login/initialize\"\n",
    "submit_login_path = \"v1/login/submit\""
   ]
  },
  {
   "cell_type": "markdown",
   "id": "8bda3566",
   "metadata": {},
   "source": [
    "### 2. Initiate session"
   ]
  },
  {
   "cell_type": "code",
   "execution_count": null,
   "id": "3718a5e6",
   "metadata": {
    "dotnet_interactive": {
     "language": "csharp"
    }
   },
   "outputs": [],
   "source": [
    "import requests as req\n",
    "\n",
    "response = None\n",
    "try:\n",
    "    response = req.get(url=f\"{lula_safe_config.base_url}/{init_session_path}\")\n",
    "    response = response.json()\n",
    "except req.exceptions.JSONDecodeError as jde:\n",
    "    print(f\"Failed to parse response into a valid JSON object because of:{os.linesep}\", jde)\n",
    "except req.exceptions.RequestException as e:\n",
    "    print(f\"Failed to obtain a flow id because of:{os.linesep}\", e)\n",
    "\n",
    "flow_id = None\n",
    "try:\n",
    "    flow_id = response[\"id\"]\n",
    "    print(f\"FlowId '{flow_id}'\")\n",
    "except KeyError: \n",
    "    print(\"Failed to get an id from JSON, because it is not in the response\")\n",
    "    pp(response)"
   ]
  },
  {
   "cell_type": "markdown",
   "id": "958e21e8",
   "metadata": {},
   "source": [
    "### 3. Get session token used as bearer"
   ]
  },
  {
   "cell_type": "code",
   "execution_count": null,
   "id": "6b8f0f1c",
   "metadata": {
    "dotnet_interactive": {
     "language": "csharp"
    }
   },
   "outputs": [],
   "source": [
    "lula_safe_config = LulaSafeOptions.read_from_default_config()\n",
    "\n",
    "request_data = {\n",
    "    \"method\": \"password\",\n",
    "    \"password_identifier\": lula_safe_config.client_id,\n",
    "    \"password\": lula_safe_config.client_secret\n",
    "}\n",
    "full_url = f\"{lula_safe_config.base_url}/{submit_login_path}?flow={flow_id}\"\n",
    "\n",
    "json_request = json.dumps(request_data).encode('utf-8')\n",
    "\n",
    "response = None\n",
    "try:\n",
    "    response = req.post(url=full_url, data=json_request, headers= {'Content-Type': 'application/json; charset=utf-8'})\n",
    "    response = response.json()\n",
    "except req.exceptions.JSONDecodeError as jde:\n",
    "    print(f\"Failed to parse response into a valid JSON object because of:{os.linesep}\", jde)\n",
    "except req.exceptions.RequestException as e:\n",
    "    print(f\"Failed to obtain a session token because of:{os.linesep}\", e)\n",
    "\n",
    "bearer_token = None\n",
    "try:\n",
    "    bearer_token = response[\"session_token\"]\n",
    "    print(f\"Bearer Token '{bearer_token}'\")\n",
    "except KeyError:\n",
    "    print(\"Failed to get a session_token from JSON, because it is not in the response\")\n",
    "    pp(response)"
   ]
  },
  {
   "cell_type": "markdown",
   "id": "7a55209f",
   "metadata": {},
   "source": [
    "## Session concept\n",
    "As long as API must also be usable from client side application (i.e. from browser) first you establish a short leaved session from a back-end. Then you can pass it to front-end and do not worry about it's disclosure. Or use it from back-end too.\n",
    "So after you got a session Id, use it for later calls."
   ]
  },
  {
   "cell_type": "markdown",
   "id": "cd0d0de7",
   "metadata": {},
   "source": [
    "### Establishing a session\n",
    "Use bearer token as usual in `Authorization` header to establish a session"
   ]
  },
  {
   "cell_type": "code",
   "execution_count": null,
   "id": "7d5cce11",
   "metadata": {},
   "outputs": [],
   "source": [
    "lula_safe_config = LulaSafeOptions.read_from_default_config()\n",
    "\n",
    "session_id = None\n",
    "\n",
    "lula_session_endpoint = f\"{lula_safe_config.base_url}/risk/v0.1-beta1/sessions\"\n",
    "\n",
    "response = None\n",
    "try:\n",
    "    response = req.post(url=lula_session_endpoint, headers={'Authorization': f\"Bearer {bearer_token}\"})\n",
    "    response = response.json()\n",
    "except req.exceptions.JSONDecodeError as jde:\n",
    "    print(f\"Failed to parse response into a valid JSON object because of:{os.linesep}\", jde)\n",
    "except req.exceptions.RequestException as e:\n",
    "    print(f\"Failed to obtain a session_id token because of:{os.linesep}\", e)\n",
    "\n",
    "session_id = None\n",
    "try:\n",
    "    session_id = response[\"sessionId\"]\n",
    "    print(f\"SessionId '{session_id}'\")\n",
    "except KeyError:\n",
    "    print(\"Failed to get a session_id from JSON, because it is not in the response\")\n",
    "    pp(response)"
   ]
  },
  {
   "cell_type": "markdown",
   "id": "423971b2",
   "metadata": {},
   "source": [
    "> **Note**\n",
    ">\n",
    "> Having a `sessionId` you no longer need to pass a bearer token. Hence you can pass it to front-end or mobile app"
   ]
  },
  {
   "cell_type": "markdown",
   "id": "1a131e2f",
   "metadata": {},
   "source": [
    "## GraphQL client usage\n",
    "Let's define a function to read an operation from a `gql` file."
   ]
  },
  {
   "cell_type": "code",
   "execution_count": null,
   "id": "7fdf0f0e",
   "metadata": {},
   "outputs": [],
   "source": [
    "import asyncio\n",
    "import os\n",
    "from gql import Client, gql\n",
    "from gql.transport.aiohttp import AIOHTTPTransport\n",
    "\n",
    "lula_safe_config = LulaSafeOptions.read_from_default_config()\n",
    "\n",
    "lulasafe_graphql_url = f\"{lula_safe_config.base_url}/risk/graphql\"\n",
    "transport = AIOHTTPTransport(lulasafe_graphql_url, headers= {'session-id': session_id})\n",
    "\n",
    "def read_operation(name: str):\n",
    "    operations_path = os.path.abspath(\"../graphql\")\n",
    "    try:\n",
    "        gql_file = open(f\"{operations_path}/{name}\", \"r\")\n",
    "        data = gql_file.read()\n",
    "        gql_file.close()\n",
    "        return data\n",
    "    except OSError as e:\n",
    "        print(f\"Failed to open operation file because of:{os.linesep}\", e.strerror)\n",
    "\n",
    "\n",
    "## This is an example of how to use async GraphQL API.\n",
    "## We will use that in the next cell\n",
    "\n",
    "# async def main():\n",
    "#     async with Client(\n",
    "#         transport=transport,\n",
    "#         fetch_schema_from_transport=True,\n",
    "#         parse_results=True\n",
    "#     ) as session:\n",
    "#         assess_mutation = read_operation(\"assessMutation.txt\")\n",
    "#         ## ...\n",
    "\n",
    "# await main()\n"
   ]
  },
  {
   "attachments": {},
   "cell_type": "markdown",
   "id": "9992f449",
   "metadata": {},
   "source": [
    "### Driver Assessment\n",
    "> **Important**\n",
    ">\n",
    ">  Store assessment Id on your back-end to later retrieve the result again\n",
    "\n",
    "Collect driver data and request an assessment for that driver ([CheckInsuranceAndRequestVehicles.gql](../graphql/CheckInsuranceAndRequestVehicles.gql) mutation is used)"
   ]
  },
  {
   "cell_type": "code",
   "execution_count": null,
   "id": "3dbeabb0",
   "metadata": {
    "dotnet_interactive": {
     "language": "csharp"
    }
   },
   "outputs": [],
   "source": [
    "assessee = {\n",
    "    \"firstName\": \"NOAH\",\n",
    "    \"lastName\": \"RUSSAW\",\n",
    "    \"middleName\": \"\",\n",
    "    \"dateOfBirth\": \"1962-8-1\",\n",
    "    \"phone\": \"\",\n",
    "    \"email\": \"\"\n",
    "}\n",
    "\n",
    "address_request = {\n",
    "    \"line1\": \"8340 BUNCHE DR\",\n",
    "    \"line2\": \"\",\n",
    "    \"zipCode\": \"75243\",\n",
    "    \"country\": \"US\",\n",
    "    \"city\": \"DALLAS\",\n",
    "    \"state\": \"TX\"\n",
    "}\n",
    "\n",
    "driver_assessment_id = None\n",
    "\n",
    "async def create_driver_assessment():\n",
    "    async with Client(\n",
    "        transport=transport,\n",
    "        fetch_schema_from_transport=True,\n",
    "        parse_results=True\n",
    "    ) as client:\n",
    "        assess_mutation = gql(read_operation(\"CheckInsuranceAndRequestVehicles.gql\"))\n",
    "        params = {\"assessee\": assessee, \"address\": address_request}     \n",
    "        response = await client.execute(assess_mutation, variable_values=params)\n",
    "        try:\n",
    "            return response[\"assess\"][\"id\"]\n",
    "        except KeyError:\n",
    "            print(\"Failed to get an assess.id from JSON, because it is absent in the response\")\n",
    "        \n",
    "\n",
    "driver_assessment_id = await create_driver_assessment()\n",
    "f\"Driver Assessment Id '{driver_assessment_id}'\""
   ]
  },
  {
   "attachments": {},
   "cell_type": "markdown",
   "id": "157b51b2",
   "metadata": {},
   "source": [
    "### Getting assessment results later\n",
    "Get any previous assessment results by assessment Id ([RetrieveInsuranceAndVehiclesResult.gql](../graphql/RetrieveInsuranceAndVehiclesResult.gql) query is used)"
   ]
  },
  {
   "cell_type": "code",
   "execution_count": null,
   "id": "338c8331",
   "metadata": {},
   "outputs": [],
   "source": [
    "async def get_assessment_results():\n",
    "    async with Client(\n",
    "        transport=transport,\n",
    "        fetch_schema_from_transport=True,\n",
    "        parse_results=True\n",
    "    ) as client:\n",
    "        assessment_query = gql(read_operation(\"RetrieveInsuranceAndVehiclesResult.gql\"))\n",
    "        params = {\"id\": driver_assessment_id}\n",
    "        response = await client.execute(assessment_query, variable_values=params)\n",
    "        print(\"Assessment Results:\")\n",
    "        pp(response)\n",
    "\n",
    "await get_assessment_results()"
   ]
  }
 ],
 "metadata": {
  "kernelspec": {
   "display_name": "Python 3",
   "language": "python",
   "name": "python3"
  },
  "language_info": {
   "codemirror_mode": {
    "name": "ipython",
    "version": 3
   },
   "file_extension": ".py",
   "mimetype": "text/x-python",
   "name": "python",
   "nbconvert_exporter": "python",
   "pygments_lexer": "ipython3",
   "version": "3.10.10"
  },
  "vscode": {
   "interpreter": {
    "hash": "f1bcf77c7044c5425e8a6b3d21cbc3239ad21d990d190187f72fcc703fab7901"
   }
  }
 },
 "nbformat": 4,
 "nbformat_minor": 5
}
